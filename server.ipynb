{
  "cells": [
    {
      "cell_type": "markdown",
      "metadata": {
        "id": "view-in-github",
        "colab_type": "text"
      },
      "source": [
        "<a href=\"https://colab.research.google.com/github/phhduc/testweb.github.io/blob/main/server.ipynb\" target=\"_parent\"><img src=\"https://colab.research.google.com/assets/colab-badge.svg\" alt=\"Open In Colab\"/></a>"
      ]
    },
    {
      "cell_type": "code",
      "source": [
        "!pip install flask flask_restful pyngrok surprise"
      ],
      "metadata": {
        "id": "HXFzsB3Hcije",
        "colab": {
          "base_uri": "https://localhost:8080/"
        },
        "outputId": "46aba72a-e666-48f6-805c-13044ad9085a"
      },
      "execution_count": 1,
      "outputs": [
        {
          "output_type": "stream",
          "name": "stdout",
          "text": [
            "Looking in indexes: https://pypi.org/simple, https://us-python.pkg.dev/colab-wheels/public/simple/\n",
            "Requirement already satisfied: flask in /usr/local/lib/python3.7/dist-packages (1.1.4)\n",
            "Collecting flask_restful\n",
            "  Downloading Flask_RESTful-0.3.9-py2.py3-none-any.whl (25 kB)\n",
            "Collecting pyngrok\n",
            "  Downloading pyngrok-5.1.0.tar.gz (745 kB)\n",
            "\u001b[K     |████████████████████████████████| 745 kB 8.5 MB/s \n",
            "\u001b[?25hCollecting surprise\n",
            "  Downloading surprise-0.1-py2.py3-none-any.whl (1.8 kB)\n",
            "Requirement already satisfied: Jinja2<3.0,>=2.10.1 in /usr/local/lib/python3.7/dist-packages (from flask) (2.11.3)\n",
            "Requirement already satisfied: click<8.0,>=5.1 in /usr/local/lib/python3.7/dist-packages (from flask) (7.1.2)\n",
            "Requirement already satisfied: itsdangerous<2.0,>=0.24 in /usr/local/lib/python3.7/dist-packages (from flask) (1.1.0)\n",
            "Requirement already satisfied: Werkzeug<2.0,>=0.15 in /usr/local/lib/python3.7/dist-packages (from flask) (1.0.1)\n",
            "Requirement already satisfied: MarkupSafe>=0.23 in /usr/local/lib/python3.7/dist-packages (from Jinja2<3.0,>=2.10.1->flask) (2.0.1)\n",
            "Collecting aniso8601>=0.82\n",
            "  Downloading aniso8601-9.0.1-py2.py3-none-any.whl (52 kB)\n",
            "\u001b[K     |████████████████████████████████| 52 kB 1.5 MB/s \n",
            "\u001b[?25hRequirement already satisfied: pytz in /usr/local/lib/python3.7/dist-packages (from flask_restful) (2022.1)\n",
            "Requirement already satisfied: six>=1.3.0 in /usr/local/lib/python3.7/dist-packages (from flask_restful) (1.15.0)\n",
            "Requirement already satisfied: PyYAML in /usr/local/lib/python3.7/dist-packages (from pyngrok) (3.13)\n",
            "Collecting scikit-surprise\n",
            "  Downloading scikit-surprise-1.1.1.tar.gz (11.8 MB)\n",
            "\u001b[K     |████████████████████████████████| 11.8 MB 28.3 MB/s \n",
            "\u001b[?25hRequirement already satisfied: joblib>=0.11 in /usr/local/lib/python3.7/dist-packages (from scikit-surprise->surprise) (1.1.0)\n",
            "Requirement already satisfied: numpy>=1.11.2 in /usr/local/lib/python3.7/dist-packages (from scikit-surprise->surprise) (1.21.6)\n",
            "Requirement already satisfied: scipy>=1.0.0 in /usr/local/lib/python3.7/dist-packages (from scikit-surprise->surprise) (1.4.1)\n",
            "Building wheels for collected packages: pyngrok, scikit-surprise\n",
            "  Building wheel for pyngrok (setup.py) ... \u001b[?25l\u001b[?25hdone\n",
            "  Created wheel for pyngrok: filename=pyngrok-5.1.0-py3-none-any.whl size=19007 sha256=1e11c3cd73b18ea933fa3d323d666c4bb5680ebd09636c8dd863ce385819f217\n",
            "  Stored in directory: /root/.cache/pip/wheels/bf/e6/af/ccf6598ecefecd44104069371795cb9b3afbcd16987f6ccfb3\n",
            "  Building wheel for scikit-surprise (setup.py) ... \u001b[?25l\u001b[?25hdone\n",
            "  Created wheel for scikit-surprise: filename=scikit_surprise-1.1.1-cp37-cp37m-linux_x86_64.whl size=1633735 sha256=71b1e2ae867f459130a50fc89cdcb7c47d2857517c7fd286a1df71b0302b8113\n",
            "  Stored in directory: /root/.cache/pip/wheels/76/44/74/b498c42be47b2406bd27994e16c5188e337c657025ab400c1c\n",
            "Successfully built pyngrok scikit-surprise\n",
            "Installing collected packages: scikit-surprise, aniso8601, surprise, pyngrok, flask-restful\n",
            "Successfully installed aniso8601-9.0.1 flask-restful-0.3.9 pyngrok-5.1.0 scikit-surprise-1.1.1 surprise-0.1\n"
          ]
        }
      ]
    },
    {
      "cell_type": "code",
      "source": [
        "import flask \n",
        "import flask_restful\n",
        "from pyngrok import ngrok\n",
        "import pandas as pd\n",
        "import numpy as np\n",
        "from sklearn.metrics.pairwise import cosine_similarity\n",
        "from scipy import sparse\n",
        "import json\n",
        "import matplotlib.pyplot as plt\n",
        "import seaborn as sns\n",
        "from surprise import Dataset\n",
        "from surprise import Reader\n",
        "from surprise import SVD\n",
        "from surprise.prediction_algorithms import knns\n",
        "from surprise.model_selection import train_test_split, KFold, GridSearchCV\n",
        "from surprise.similarities import cosine, pearson\n",
        "from surprise import accuracy\n",
        "from surprise import dump\n",
        "import os\n",
        "import random\n",
        "from collections import defaultdict\n",
        "from time import time"
      ],
      "metadata": {
        "id": "ztkbayddcv8m"
      },
      "execution_count": 2,
      "outputs": []
    },
    {
      "cell_type": "code",
      "source": [
        "ratings = pd.read_csv(\"/content/drive/MyDrive/ai/data/interactions_x.csv\")"
      ],
      "metadata": {
        "id": "RtbxCPFfMri0"
      },
      "execution_count": 4,
      "outputs": []
    },
    {
      "cell_type": "code",
      "source": [
        "f=open(\"/content/drive/MyDrive/ai/data/books_titles.json\")\n",
        "titles_dict = json.load(f)\n",
        "f.close()"
      ],
      "metadata": {
        "id": "1jryD4yYNOyc"
      },
      "execution_count": 3,
      "outputs": []
    },
    {
      "cell_type": "code",
      "source": [
        "titles = pd.DataFrame.from_dict(titles_dict)"
      ],
      "metadata": {
        "id": "srkIFo7TSd5P"
      },
      "execution_count": 6,
      "outputs": []
    },
    {
      "cell_type": "code",
      "source": [
        "from sklearn.feature_extraction.text import TfidfVectorizer\n",
        "from sklearn.metrics.pairwise import cosine_similarity\n",
        "import re\n",
        "vectorizer = TfidfVectorizer()\n",
        "tfidf = vectorizer.fit_transform(titles[\"mod_title\"])\n",
        "\n"
      ],
      "metadata": {
        "id": "wkLxJfPiSx-W"
      },
      "execution_count": 7,
      "outputs": []
    },
    {
      "cell_type": "code",
      "source": [
        "def search(query,vectorizer=vectorizer):\n",
        "    processed = re.sub(\"[^a-zA-Z0-9 ]\", \"\", query.lower())\n",
        "    query_vec = vectorizer.transform([query])\n",
        "    similarity = cosine_similarity(query_vec, tfidf).flatten()\n",
        "    indices = np.argpartition(similarity, -10)[-10:]\n",
        "    results = titles.iloc[indices]\n",
        "    results = results.sort_values(\"ratings\", ascending=False)\n",
        "    \n",
        "    return results.head(10)"
      ],
      "metadata": {
        "id": "h86AbfrTTnAs"
      },
      "execution_count": 8,
      "outputs": []
    },
    {
      "cell_type": "code",
      "source": [
        "def get_recs(df = ratings, tb = titles, num_of_rec = 5, rated_book = [], user_id = -1):\n",
        "  _, best_svd = dump.load(\"/content/drive/MyDrive/ai/data/best_svd_x\")\n",
        "  new_ratings_df = ratings\n",
        "  if user_id == -1:\n",
        "    user_id = ratings.user_id.nunique()+1\n",
        "    rating_list = []\n",
        "    for rec in rated_book:\n",
        "      rated_one_book = {\"user_id\": user_id, \"book_id\": rec[0],'rating': rec[1]}\n",
        "      rating_list.append(rated_one_book)\n",
        "\n",
        "    df = pd.DataFrame(rating_list)\n",
        "    new_ratings_df = ratings.append(df, ignore_index = True)\n",
        "    reader = Reader(rating_scale=(0, 5))\n",
        "    new_data = Dataset.load_from_df(new_ratings_df[[\"user_id\", 'book_id', 'rating']], reader)\n",
        "    best_svd.fit(new_data.build_full_trainset())\n",
        "  list_of_books = []\n",
        "  for book_id in new_ratings_df[\"book_id\"].unique():\n",
        "    list_of_books.append((book_id, best_svd.predict(user_id, book_id)[3]))\n",
        "  ranked_predictions = sorted(list_of_books, key=lambda x:x[1], reverse=True)\n",
        "  rs = []\n",
        "  for idx, rec in enumerate(ranked_predictions):\n",
        "    tl = tb.loc[tb['book_id'] == rec[0].astype(str)]\n",
        "    rs.append(tl.to_dict(\"records\")[0])\n",
        "    num_of_rec -=1\n",
        "    if num_of_rec == 0:\n",
        "      break\n",
        "  return rs"
      ],
      "metadata": {
        "id": "_Qzn8txLOMuL"
      },
      "execution_count": 9,
      "outputs": []
    },
    {
      "cell_type": "code",
      "source": [
        "like_books = pd.read_csv(\"/content/drive/MyDrive/ai/data/liked_books.csv\", index_col = 0)\n",
        "like_books = like_books.to_numpy()\n",
        "arr=like_books[:, 1:3]"
      ],
      "metadata": {
        "id": "-mzgoVutY1Ep"
      },
      "execution_count": 10,
      "outputs": []
    },
    {
      "cell_type": "code",
      "source": [
        "class DK():\n",
        "  def get(self):\n",
        "    books_recs = get_recs(user_id=282)\n",
        "    return books_recs\n",
        "  def get2(self):\n",
        "    books_recs = get_recs(rated_book=arr)\n",
        "    return books_recs\n",
        "dk = DK()\n",
        "dk.get2()"
      ],
      "metadata": {
        "colab": {
          "base_uri": "https://localhost:8080/"
        },
        "id": "6cqWRTgmaeXz",
        "outputId": "50b17830-b413-4a0b-d314-fc6526987a30"
      },
      "execution_count": 15,
      "outputs": [
        {
          "output_type": "execute_result",
          "data": {
            "text/plain": [
              "[{'book_id': '3',\n",
              "  'cover_image': 'https://images.gr-assets.com/books/1474154022m/3.jpg',\n",
              "  'mod_title': 'harry potter and the sorcerers stone harry potter 1',\n",
              "  'mode_title': 'harry potter and the sorcerers stone harry potter 1',\n",
              "  'ratings': 4765497,\n",
              "  'title': \"Harry Potter and the Sorcerer's Stone (Harry Potter, #1)\",\n",
              "  'url': 'https://www.goodreads.com/book/show/3.Harry_Potter_and_the_Sorcerer_s_Stone'},\n",
              " {'book_id': '6',\n",
              "  'cover_image': 'https://images.gr-assets.com/books/1361482611m/6.jpg',\n",
              "  'mod_title': 'harry potter and the goblet of fire harry potter 4',\n",
              "  'mode_title': 'harry potter and the goblet of fire harry potter 4',\n",
              "  'ratings': 1792561,\n",
              "  'title': 'Harry Potter and the Goblet of Fire (Harry Potter, #4)',\n",
              "  'url': 'https://www.goodreads.com/book/show/6.Harry_Potter_and_the_Goblet_of_Fire'},\n",
              " {'book_id': '5',\n",
              "  'cover_image': 'https://images.gr-assets.com/books/1499277281m/5.jpg',\n",
              "  'mod_title': 'harry potter and the prisoner of azkaban harry potter 3',\n",
              "  'mode_title': 'harry potter and the prisoner of azkaban harry potter 3',\n",
              "  'ratings': 1876252,\n",
              "  'title': 'Harry Potter and the Prisoner of Azkaban (Harry Potter, #3)',\n",
              "  'url': 'https://www.goodreads.com/book/show/5.Harry_Potter_and_the_Prisoner_of_Azkaban'},\n",
              " {'book_id': '2',\n",
              "  'cover_image': 'https://images.gr-assets.com/books/1507396732m/2.jpg',\n",
              "  'mod_title': 'harry potter and the order of the phoenix harry potter 5',\n",
              "  'mode_title': 'harry potter and the order of the phoenix harry potter 5',\n",
              "  'ratings': 1766895,\n",
              "  'title': 'Harry Potter and the Order of the Phoenix (Harry Potter, #5)',\n",
              "  'url': 'https://www.goodreads.com/book/show/2.Harry_Potter_and_the_Order_of_the_Phoenix'},\n",
              " {'book_id': '1',\n",
              "  'cover_image': 'https://images.gr-assets.com/books/1361039191m/1.jpg',\n",
              "  'mod_title': 'harry potter and the halfblood prince harry potter 6',\n",
              "  'mode_title': 'harry potter and the halfblood prince harry potter 6',\n",
              "  'ratings': 1713866,\n",
              "  'title': 'Harry Potter and the Half-Blood Prince (Harry Potter, #6)',\n",
              "  'url': 'https://www.goodreads.com/book/show/1.Harry_Potter_and_the_Half_Blood_Prince'}]"
            ]
          },
          "metadata": {},
          "execution_count": 15
        }
      ]
    },
    {
      "cell_type": "code",
      "source": [
        "app = flask.Flask(__name__)\n",
        "api = flask_restful.Api(app)"
      ],
      "metadata": {
        "id": "60jo6tmEZQfy"
      },
      "execution_count": null,
      "outputs": []
    },
    {
      "cell_type": "code",
      "source": [
        "class GetBook(flask_restful.Resource):\n",
        "  def get(self):\n",
        "    books_get = titles.sample(n=10).to_dict(\"records\")\n",
        "    return books_get\n",
        "\n",
        "class Hello(flask_restful.Resource):\n",
        "  def get(self):\n",
        "    return {\"msg\": \"hello\"}\n",
        "  def post(self):\n",
        "    json_data = flask.request.get_json(force=True)\n",
        "    return flask.jsonify({\"data\": json_data})"
      ],
      "metadata": {
        "id": "i95olTISdoKe"
      },
      "execution_count": null,
      "outputs": []
    },
    {
      "cell_type": "code",
      "source": [
        "api.add_resource(Hello, '/')\n",
        "api.add_resource(GetBook, '/getbook')"
      ],
      "metadata": {
        "colab": {
          "base_uri": "https://localhost:8080/"
        },
        "id": "oTP6w83aecBN",
        "outputId": "2dd12aca-bf0d-419b-f6d2-aaf68845641b"
      },
      "execution_count": null,
      "outputs": [
        {
          "output_type": "stream",
          "name": "stdout",
          "text": [
            "NgrokTunnel: \"http://f84a-35-189-181-119.ngrok.io\" -> \"http://localhost:5000\"\n"
          ]
        }
      ]
    },
    {
      "cell_type": "code",
      "source": [
        "ngrok.set_auth_token(\"2AthS7rha8i9A7i0Wms36JzsMhz_5ZEnF1HLDn67xshoaKRgw\")\n",
        "public_url = ngrok.connect(5000)\n",
        "print(public_url)\n",
        "import threading\n",
        "import os\n",
        "threading.Thread(target=app.run, kwargs={\"use_reloader\": False}).start()"
      ],
      "metadata": {
        "id": "N4hloKj4e37t"
      },
      "execution_count": null,
      "outputs": []
    }
  ],
  "metadata": {
    "colab": {
      "name": "server",
      "provenance": [],
      "collapsed_sections": [],
      "mount_file_id": "11laNsBxhV7XMFwUYPEtzTYn9s8WUYAe7",
      "authorship_tag": "ABX9TyOiTy9Sxr4PlGE6vNvlQxxb",
      "include_colab_link": true
    },
    "kernelspec": {
      "display_name": "Python 3",
      "name": "python3"
    },
    "language_info": {
      "name": "python"
    }
  },
  "nbformat": 4,
  "nbformat_minor": 0
}